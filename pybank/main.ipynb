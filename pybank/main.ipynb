{
 "cells": [
  {
   "cell_type": "code",
   "execution_count": 8,
   "id": "51ab475f-5a8c-441f-bb12-a6241f6fe25b",
   "metadata": {},
   "outputs": [
    {
     "name": "stdout",
     "output_type": "stream",
     "text": [
      "Total Months: 86\n",
      "Total: $38382578\n",
      "Average Change: $-2315.12\n",
      "Greatest Increase in Profits: Feb-2012 ($1926159)\n",
      "Greatest Increase in Profits: Sep-2013 ($-2196167)\n"
     ]
    }
   ],
   "source": [
    "import pandas as pd\n",
    "\n",
    "df = pd.read_csv('budget_data.csv')\n",
    "\n",
    "from datetime import datetime\n",
    "from dateutil.parser import parse\n",
    "\n",
    "df['FullDate'] = pd.to_datetime(df['Date'])\n",
    "df['Year'] = pd.DatetimeIndex(df['FullDate']).year\n",
    "df['Month'] = pd.DatetimeIndex(df['FullDate']).month\n",
    "df['MonthYear'] = pd.to_datetime(df['FullDate']).dt.to_period('M')\n",
    "print (\"Total Months:\" ,df['Date'].nunique())\n",
    "print(\"Total: $\"+str(df['Profit/Losses'].sum()))\n",
    "\n",
    "df['Profit/Loss_Shifted']=df['Profit/Losses'].shift(1)\n",
    "df['Change']=df['Profit/Losses']-df['Profit/Loss_Shifted']\n",
    "print(\"Average Change: $\"+str(round(df['Change'].mean(),2)))\n",
    "print(\"Greatest Increase in Profits: \" +df['Date'][df['Change'] == df['Change'].max()].iloc[0]+ \" ($\"+str(int(df['Change'].max()))+\")\")\n",
    "print(\"Greatest Increase in Profits: \" +df['Date'][df['Change'] == df['Change'].min()].iloc[0]+ \" ($\"+str(int(df['Change'].min()))+\")\")\n",
    "\n",
    "print(\"Financial Analysis\", file=open(\"pybank.txt\", \"a\"))\n",
    "print(\"----------------------------\", file=open(\"pybank.txt\", \"a\"))\n",
    "print (\"Total Months:\" ,df['Date'].nunique(), file=open(\"pybank.txt\", \"a\"))\n",
    "print(\"Total: $\"+str(df['Profit/Losses'].sum()), file=open(\"pybank.txt\", \"a\"))\n",
    "print(\"Average Change: $\"+str(round(df['Change'].mean(),2)), file=open(\"pybank.txt\", \"a\"))\n",
    "print(\"Greatest Increase in Profits: \" +df['Date'][df['Change'] == df['Change'].max()].iloc[0]+ \" ($\"+str(int(df['Change'].max()))+\")\", file=open(\"pybank.txt\", \"a\"))\n",
    "print(\"Greatest Increase in Profits: \" +df['Date'][df['Change'] == df['Change'].min()].iloc[0]+ \" ($\"+str(int(df['Change'].min()))+\")\", file=open(\"pybank.txt\", \"a\"))\n",
    "\n"
   ]
  },
  {
   "cell_type": "code",
   "execution_count": null,
   "id": "77395571-c7b6-4f34-80b5-fc47c1d9e1da",
   "metadata": {},
   "outputs": [],
   "source": []
  }
 ],
 "metadata": {
  "kernelspec": {
   "display_name": "Python 3",
   "language": "python",
   "name": "python3"
  },
  "language_info": {
   "codemirror_mode": {
    "name": "ipython",
    "version": 3
   },
   "file_extension": ".py",
   "mimetype": "text/x-python",
   "name": "python",
   "nbconvert_exporter": "python",
   "pygments_lexer": "ipython3",
   "version": "3.8.8"
  }
 },
 "nbformat": 4,
 "nbformat_minor": 5
}
